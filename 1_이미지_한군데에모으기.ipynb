{
  "cells": [
    {
      "cell_type": "markdown",
      "metadata": {
        "id": "view-in-github",
        "colab_type": "text"
      },
      "source": [
        "<a href=\"https://colab.research.google.com/github/heokwon/DietService-ObjectDetection/blob/main/1_%EC%9D%B4%EB%AF%B8%EC%A7%80_%ED%95%9C%EA%B5%B0%EB%8D%B0%EC%97%90%EB%AA%A8%EC%9C%BC%EA%B8%B0.ipynb\" target=\"_parent\"><img src=\"https://colab.research.google.com/assets/colab-badge.svg\" alt=\"Open In Colab\"/></a>"
      ]
    },
    {
      "cell_type": "code",
      "execution_count": null,
      "metadata": {
        "colab": {
          "base_uri": "https://localhost:8080/"
        },
        "id": "QkAzOMp9Zis8",
        "outputId": "b8b23101-00ff-4e1e-eda3-21ff8c9a65f3"
      },
      "outputs": [
        {
          "output_type": "stream",
          "name": "stdout",
          "text": [
            "Mounted at /content/drive\n"
          ]
        }
      ],
      "source": [
        "import os\n",
        "import cv2\n",
        "import numpy as np\n",
        "from google.colab import drive\n",
        "drive.mount('/content/drive')"
      ]
    },
    {
      "cell_type": "code",
      "execution_count": null,
      "metadata": {
        "id": "_S2NzNSsZis9"
      },
      "outputs": [],
      "source": [
        "import glob\n",
        "dir = '/content/drive/MyDrive/Colab Notebooks/alpaco_sec_team_project/V4/UECFOOD100' # 압축해제폴더 경로를 dir변수로 지정\n",
        "file_list = [] # file_list란 변수이름으로 빈 리스트 생성\n",
        "for i in range(1,101): # 폴더 개수가 100개, 범위를 1-101까지 설정\n",
        "  file_list.append(glob.glob(dir+'/'+str(i)+'/*jpg')) # 리스트가 리스트에 저장 // glob함수 사용하여 리스트로 변환 뒤 file_list에 저장\n",
        "file_list"
      ]
    },
    {
      "cell_type": "markdown",
      "source": [
        "# 이미지 데이터 한군데에 모으기"
      ],
      "metadata": {
        "id": "FnTNBrdHpcj4"
      }
    },
    {
      "cell_type": "code",
      "source": [
        "import shutil # 파일 이동을 해 주기 위한 라이브러리\n",
        "file_count = 0 \n",
        "for f in file_list: \n",
        "  for temp in f:\n",
        "    try:\n",
        "      shutil.move(temp,'/content/drive/MyDrive/Colab Notebooks/alpaco_sec_team_project/V4/dataes') # dataes폴더로 파일이동\n",
        "      file_count+=1\n",
        "    except:\n",
        "      pass\n",
        "    file_count"
      ],
      "metadata": {
        "id": "i1lViNFtmdL9"
      },
      "execution_count": null,
      "outputs": []
    },
    {
      "cell_type": "markdown",
      "source": [
        "## 중복제거한 데이터개수"
      ],
      "metadata": {
        "id": "S06dvWaGpuzi"
      }
    },
    {
      "cell_type": "code",
      "source": [
        "# 사진이미지만 12740개\n",
        "dir = '/content/drive/MyDrive/Colab Notebooks/alpaco_sec_team_project/V4/dataes/*'\n",
        "length = len(glob.glob(dir)) # glob함수를 사용해 리스트로 변환 뒤 데이터 개수 세기\n",
        "length"
      ],
      "metadata": {
        "colab": {
          "base_uri": "https://localhost:8080/"
        },
        "id": "cwmAMVCQoKxB",
        "outputId": "f98096af-9729-46ed-bfc0-68819b08d09c"
      },
      "execution_count": null,
      "outputs": [
        {
          "output_type": "execute_result",
          "data": {
            "text/plain": [
              "12740"
            ]
          },
          "metadata": {},
          "execution_count": 6
        }
      ]
    },
    {
      "cell_type": "markdown",
      "source": [
        "## txt 파일생성"
      ],
      "metadata": {
        "id": "3yE1kLfMpxEQ"
      }
    },
    {
      "cell_type": "markdown",
      "source": [
        "## 파일 이름 리스트 만들기"
      ],
      "metadata": {
        "id": "1QaQIfo9s8N4"
      }
    },
    {
      "cell_type": "code",
      "source": [
        "dir = '/content/drive/MyDrive/Colab Notebooks/alpaco_sec_team_project/V4/dataes'\n",
        "file_list = os.listdir(dir) # 디랙토리에 있는 파일 불러오기\n",
        "new_list = [] # 빈 리스트 생성\n",
        "for f in file_list:\n",
        "  new_list.append(f.replace('jpg','txt')) # jpg를 txt로 변환\n",
        "new_list"
      ],
      "metadata": {
        "id": "WcRTCDYupzkd"
      },
      "execution_count": null,
      "outputs": []
    },
    {
      "cell_type": "code",
      "source": [
        "len(new_list)"
      ],
      "metadata": {
        "colab": {
          "base_uri": "https://localhost:8080/"
        },
        "id": "Nbsx4NFklLvy",
        "outputId": "14c48b6b-eb8c-421c-a12a-8402911d9ce9"
      },
      "execution_count": null,
      "outputs": [
        {
          "output_type": "execute_result",
          "data": {
            "text/plain": [
              "12740"
            ]
          },
          "metadata": {},
          "execution_count": 8
        }
      ]
    },
    {
      "cell_type": "markdown",
      "source": [
        "## 파일 이름으로 파일생성"
      ],
      "metadata": {
        "id": "_vF19G37s_XG"
      }
    },
    {
      "cell_type": "code",
      "source": [
        "dir = '/content/drive/MyDrive/Colab Notebooks/alpaco_sec_team_project/V4/dataes/'\n",
        "for n in new_list:\n",
        "  f = open(dir+n,'w')\n",
        "  f.close()"
      ],
      "metadata": {
        "id": "FtognzQDtB0f"
      },
      "execution_count": null,
      "outputs": []
    },
    {
      "cell_type": "markdown",
      "source": [
        "## 파일 개수 세기"
      ],
      "metadata": {
        "id": "967zwh7vtevc"
      }
    },
    {
      "cell_type": "code",
      "source": [
        "dir = '/content/drive/MyDrive/Colab Notebooks/alpaco_sec_team_project/V4/dataes/*'\n",
        "len(glob.glob(dir)) #jpg(12740개) + txt(12740개) = 25480개"
      ],
      "metadata": {
        "colab": {
          "base_uri": "https://localhost:8080/"
        },
        "id": "ijvjgwD6tf_G",
        "outputId": "daea60a3-16e6-4447-8b45-3ae7a6e5be0c"
      },
      "execution_count": null,
      "outputs": [
        {
          "output_type": "execute_result",
          "data": {
            "text/plain": [
              "25480"
            ]
          },
          "metadata": {},
          "execution_count": 10
        }
      ]
    },
    {
      "cell_type": "code",
      "source": [],
      "metadata": {
        "id": "or5-qPlQlQ6j"
      },
      "execution_count": null,
      "outputs": []
    }
  ],
  "metadata": {
    "interpreter": {
      "hash": "369f2c481f4da34e4445cda3fffd2e751bd1c4d706f27375911949ba6bb62e1c"
    },
    "kernelspec": {
      "display_name": "Python 3.10.2 64-bit",
      "language": "python",
      "name": "python3"
    },
    "language_info": {
      "codemirror_mode": {
        "name": "ipython",
        "version": 3
      },
      "file_extension": ".py",
      "mimetype": "text/x-python",
      "name": "python",
      "nbconvert_exporter": "python",
      "pygments_lexer": "ipython3",
      "version": "3.10.2"
    },
    "orig_nbformat": 4,
    "colab": {
      "provenance": [],
      "collapsed_sections": [],
      "include_colab_link": true
    }
  },
  "nbformat": 4,
  "nbformat_minor": 0
}