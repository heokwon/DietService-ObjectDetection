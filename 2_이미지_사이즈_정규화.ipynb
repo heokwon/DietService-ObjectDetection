{
  "nbformat": 4,
  "nbformat_minor": 0,
  "metadata": {
    "colab": {
      "provenance": [],
      "collapsed_sections": [],
      "include_colab_link": true
    },
    "kernelspec": {
      "name": "python3",
      "display_name": "Python 3"
    },
    "language_info": {
      "name": "python"
    },
    "accelerator": "GPU"
  },
  "cells": [
    {
      "cell_type": "markdown",
      "metadata": {
        "id": "view-in-github",
        "colab_type": "text"
      },
      "source": [
        "<a href=\"https://colab.research.google.com/github/heokwon/DietService-ObjectDetection/blob/main/2_%EC%9D%B4%EB%AF%B8%EC%A7%80_%EC%82%AC%EC%9D%B4%EC%A6%88_%EC%A0%95%EA%B7%9C%ED%99%94.ipynb\" target=\"_parent\"><img src=\"https://colab.research.google.com/assets/colab-badge.svg\" alt=\"Open In Colab\"/></a>"
      ]
    },
    {
      "cell_type": "code",
      "source": [
        "from PIL import Image\n",
        "from tqdm.notebook import tqdm\n",
        "from google.colab import drive\n",
        "drive.mount('/content/drive')"
      ],
      "metadata": {
        "colab": {
          "base_uri": "https://localhost:8080/"
        },
        "id": "ehHVXfYheGl3",
        "outputId": "5c4fbb55-b7be-4817-eb7d-055ce8a6fc67"
      },
      "execution_count": null,
      "outputs": [
        {
          "output_type": "stream",
          "name": "stdout",
          "text": [
            "Mounted at /content/drive\n"
          ]
        }
      ]
    },
    {
      "cell_type": "code",
      "source": [
        "import glob\n",
        "path='/content/drive/MyDrive/Colab Notebooks/alpaco_sec_team_project/V4/dataes/*'\n",
        "len(glob.glob(path))"
      ],
      "metadata": {
        "colab": {
          "base_uri": "https://localhost:8080/"
        },
        "id": "DJOHmB6uEUaG",
        "outputId": "7c462b1f-9e8c-48b3-e21f-e9ba22b344ef"
      },
      "execution_count": null,
      "outputs": [
        {
          "output_type": "execute_result",
          "data": {
            "text/plain": [
              "25480"
            ]
          },
          "metadata": {},
          "execution_count": 4
        }
      ]
    },
    {
      "cell_type": "markdown",
      "source": [
        "# 좌표 정규화 하는 코드"
      ],
      "metadata": {
        "id": "QynMg5smsU7p"
      }
    },
    {
      "cell_type": "code",
      "execution_count": null,
      "metadata": {
        "id": "_146NvnFciDs"
      },
      "outputs": [],
      "source": [
        "def convert_yolo_bbox(img_size, box): # 좌표 노멀라이징\n",
        "\n",
        "    dw = 1./img_size[0]\n",
        "    dh = 1./img_size[1]\n",
        "    # 센터 x, y 좌표\n",
        "    x = (int(box[1]) + int(box[3]))/2.0 # 좌표가 X,Y max min값으로 되어있음\n",
        "    y = (int(box[2]) + int(box[4]))/2.0\n",
        "\n",
        "    w = abs(int(box[3])-int(box[1]))\n",
        "    h = abs(int(box[4])-int(box[2]))\n",
        "\n",
        "    x = x*dw\n",
        "    w = w*dw\n",
        "    y = y*dh\n",
        "    h = h*dh\n",
        "\n",
        "    return (x,y,w,h)"
      ]
    },
    {
      "cell_type": "markdown",
      "source": [
        "# 사진이미지 경로가져오기"
      ],
      "metadata": {
        "id": "TTeOiqF-sZfv"
      }
    },
    {
      "cell_type": "code",
      "source": [
        "import glob\n",
        "dir = '/content/drive/MyDrive/Colab Notebooks/alpaco_sec_team_project/V4/dataes'\n",
        "file_list = glob.glob(dir+'/*.jpg') # 디랙토리 내의 파일을 불러와 리스트형태로 저장"
      ],
      "metadata": {
        "id": "zHIvmHf_guyT"
      },
      "execution_count": null,
      "outputs": []
    },
    {
      "cell_type": "code",
      "source": [
        "new_list={}\n",
        "for image in file_list:\n",
        "  index=image.split('/')[-1].split('.jpg')[0]\n",
        "  new_list[index]=image\n",
        "new_list"
      ],
      "metadata": {
        "id": "PKzDe-stF3QB"
      },
      "execution_count": null,
      "outputs": []
    },
    {
      "cell_type": "code",
      "source": [
        "len(file_list)"
      ],
      "metadata": {
        "colab": {
          "base_uri": "https://localhost:8080/"
        },
        "id": "r_raOdNqGebg",
        "outputId": "310e4628-7984-4936-d41b-a89621f5d494"
      },
      "execution_count": null,
      "outputs": [
        {
          "output_type": "execute_result",
          "data": {
            "text/plain": [
              "12740"
            ]
          },
          "metadata": {},
          "execution_count": 15
        }
      ]
    },
    {
      "cell_type": "code",
      "source": [
        "len(new_list)"
      ],
      "metadata": {
        "colab": {
          "base_uri": "https://localhost:8080/"
        },
        "id": "lDMkx-G2Ggrj",
        "outputId": "7df474cc-64fd-4fa7-e77c-7febdc3eab2b"
      },
      "execution_count": null,
      "outputs": [
        {
          "output_type": "execute_result",
          "data": {
            "text/plain": [
              "12740"
            ]
          },
          "metadata": {},
          "execution_count": 16
        }
      ]
    },
    {
      "cell_type": "markdown",
      "source": [
        "# 텍스트 파일 가져오기"
      ],
      "metadata": {
        "id": "QQKqv7ie05dN"
      }
    },
    {
      "cell_type": "code",
      "source": [
        "dir='/content/drive/MyDrive/Colab Notebooks/alpaco_sec_team_project/V4/dataes'\n",
        "txt_list=glob.glob(dir+'/*.txt')"
      ],
      "metadata": {
        "id": "vLxMLTf8NSXb"
      },
      "execution_count": null,
      "outputs": []
    },
    {
      "cell_type": "code",
      "source": [
        "len(txt_list)"
      ],
      "metadata": {
        "colab": {
          "base_uri": "https://localhost:8080/"
        },
        "id": "pAe6p0wVNftK",
        "outputId": "27acb3dd-5e2a-4a2a-8613-c42b8ef729b0"
      },
      "execution_count": null,
      "outputs": [
        {
          "output_type": "execute_result",
          "data": {
            "text/plain": [
              "12740"
            ]
          },
          "metadata": {},
          "execution_count": 6
        }
      ]
    },
    {
      "cell_type": "code",
      "source": [
        "new_txt={}\n",
        "for txt in txt_list:\n",
        "  index=txt.split('/')[-1].split('.txt')[0]\n",
        "  new_txt[index]=txt\n",
        "new_txt"
      ],
      "metadata": {
        "id": "oCdzqoeJJbjj"
      },
      "execution_count": null,
      "outputs": []
    },
    {
      "cell_type": "code",
      "source": [
        "f=Image.open(new_list['1'])\n",
        "f.size"
      ],
      "metadata": {
        "colab": {
          "base_uri": "https://localhost:8080/"
        },
        "id": "g4lv5tpyNkt6",
        "outputId": "684dbbc7-83a6-4483-eedd-0f6518636ac1"
      },
      "execution_count": null,
      "outputs": [
        {
          "output_type": "execute_result",
          "data": {
            "text/plain": [
              "(800, 600)"
            ]
          },
          "metadata": {},
          "execution_count": 17
        }
      ]
    },
    {
      "cell_type": "markdown",
      "source": [
        "## 텍스트 삭제"
      ],
      "metadata": {
        "id": "cELrA2wGRJ-J"
      }
    },
    {
      "cell_type": "code",
      "source": [
        "import os\n",
        "for txt in txt_list:\n",
        "  os.remove(txt)"
      ],
      "metadata": {
        "id": "avrgewGoNrpC"
      },
      "execution_count": null,
      "outputs": []
    },
    {
      "cell_type": "markdown",
      "source": [
        "## 텍스트 데이터 추가하기"
      ],
      "metadata": {
        "id": "cu5bcgbjRN2A"
      }
    },
    {
      "cell_type": "code",
      "source": [
        "for i in range(1,101):\n",
        "  dir=f'/content/drive/MyDrive/Colab Notebooks/alpaco_sec_team_project/V4/UECFOOD100/{i}/bb_info.txt' # 1-100까지의 폴더 내부의 bb_info.txt(각 클래스별 좌표)\n",
        "  f = open(dir,'r')\n",
        "  lines=f.readlines() # 한줄씩\n",
        "  count=0\n",
        "  for line in lines:\n",
        "    count+=1\n",
        "    if count==1: continue\n",
        "    line=line.split(' ')\n",
        "    file_name=new_txt[line[0]]\n",
        "    wr=open(file_name,'a+')\n",
        "\n",
        "    f=Image.open(new_list[line[0]])\n",
        "    size=f.size\n",
        "    f.close()\n",
        "\n",
        "    temp=line[:-1]\n",
        "    temp.append(line[-1].replace('\\n',''))\n",
        "    x,y,w,h=convert_yolo_bbox(size, temp) # 위 좌표 정규화 함수\n",
        "    data=str(i-1)+' '+str(x)+' '+str(y)+' '+str(w)+' '+str(h)+'\\n' # str(i-1): class가 1-100,-1씩 해서 0-99까지로 바꿔줌\n",
        "\n",
        "    wr.write(data)\n",
        "    wr.close()"
      ],
      "metadata": {
        "id": "WBzoJNsMGnbh"
      },
      "execution_count": null,
      "outputs": []
    },
    {
      "cell_type": "code",
      "source": [
        "f = open('/content/drive/MyDrive/Colab Notebooks/alpaco_sec_team_project/V4/dataes/1.txt')\n",
        "temp = f.readlines()\n",
        "temp"
      ],
      "metadata": {
        "id": "yd3wMH62N62b",
        "colab": {
          "base_uri": "https://localhost:8080/"
        },
        "outputId": "00b250d9-9326-4f87-f11e-9b10d3d9ca6c"
      },
      "execution_count": null,
      "outputs": [
        {
          "output_type": "execute_result",
          "data": {
            "text/plain": [
              "['0 0.23125 0.5241666666666667 0.4625 0.5716666666666667\\n',\n",
              " '41 0.726875 0.5425 0.54625 0.7816666666666667\\n']"
            ]
          },
          "metadata": {},
          "execution_count": 19
        }
      ]
    },
    {
      "cell_type": "code",
      "source": [],
      "metadata": {
        "id": "kqXkegCV8nl4"
      },
      "execution_count": null,
      "outputs": []
    }
  ]
}