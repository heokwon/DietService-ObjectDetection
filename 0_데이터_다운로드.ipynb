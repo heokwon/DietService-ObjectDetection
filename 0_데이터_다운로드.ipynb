{
  "nbformat": 4,
  "nbformat_minor": 0,
  "metadata": {
    "colab": {
      "provenance": [],
      "collapsed_sections": [],
      "authorship_tag": "ABX9TyOiCR6X9VypZArEPKcpRFAp",
      "include_colab_link": true
    },
    "kernelspec": {
      "name": "python3",
      "display_name": "Python 3"
    },
    "language_info": {
      "name": "python"
    }
  },
  "cells": [
    {
      "cell_type": "markdown",
      "metadata": {
        "id": "view-in-github",
        "colab_type": "text"
      },
      "source": [
        "<a href=\"https://colab.research.google.com/github/heokwon/DietService-ObjectDetection/blob/main/0_%EB%8D%B0%EC%9D%B4%ED%84%B0_%EB%8B%A4%EC%9A%B4%EB%A1%9C%EB%93%9C.ipynb\" target=\"_parent\"><img src=\"https://colab.research.google.com/assets/colab-badge.svg\" alt=\"Open In Colab\"/></a>"
      ]
    },
    {
      "cell_type": "code",
      "execution_count": null,
      "metadata": {
        "colab": {
          "base_uri": "https://localhost:8080/"
        },
        "id": "FcPfnh4ItJ5p",
        "outputId": "df0ed440-ce6a-47bb-9712-e561d5a1b07b"
      },
      "outputs": [
        {
          "output_type": "stream",
          "name": "stdout",
          "text": [
            "Mounted at /content/drive\n"
          ]
        }
      ],
      "source": [
        "from google.colab import drive\n",
        "drive.mount('/content/drive') # content에 Mydrive 불러오기"
      ]
    },
    {
      "cell_type": "code",
      "source": [
        "!pip install wget # colab에 wget 설치\n",
        "import wget # wget : 웹에서 파일을 다운받게 해줌"
      ],
      "metadata": {
        "colab": {
          "base_uri": "https://localhost:8080/"
        },
        "id": "BfA7IezBtqcX",
        "outputId": "53b0f8ed-0062-4f7b-8a08-e2cd49f60795"
      },
      "execution_count": null,
      "outputs": [
        {
          "output_type": "stream",
          "name": "stdout",
          "text": [
            "Collecting wget\n",
            "  Downloading wget-3.2.zip (10 kB)\n",
            "Building wheels for collected packages: wget\n",
            "  Building wheel for wget (setup.py) ... \u001b[?25l\u001b[?25hdone\n",
            "  Created wheel for wget: filename=wget-3.2-py3-none-any.whl size=9675 sha256=cdaebeed4212e54e0db5f2f19edb3ca8173d559440dee20d087ec6e9713532c7\n",
            "  Stored in directory: /root/.cache/pip/wheels/a1/b6/7c/0e63e34eb06634181c63adacca38b79ff8f35c37e3c13e3c02\n",
            "Successfully built wget\n",
            "Installing collected packages: wget\n",
            "Successfully installed wget-3.2\n"
          ]
        }
      ]
    },
    {
      "cell_type": "code",
      "source": [
        "url = \"http://foodcam.mobi/dataset100.zip\" # 다운받을 파일 경로\n",
        "wget.download(url,out='/content/drive/MyDrive/Colab Notebooks/alpaco_sec_team_project/V4') # import해준 wget 사용하여 url의 파일을 content/drive ...경로에 다운받음"
      ],
      "metadata": {
        "colab": {
          "base_uri": "https://localhost:8080/",
          "height": 35
        },
        "id": "L8OA-B48uODV",
        "outputId": "32d1a952-282c-4b82-b1e3-bd9b8414217a"
      },
      "execution_count": null,
      "outputs": [
        {
          "output_type": "execute_result",
          "data": {
            "text/plain": [
              "'/content/drive/MyDrive/Colab Notebooks/alpaco_sec_team_project/V4/dataset100.zip'"
            ],
            "application/vnd.google.colaboratory.intrinsic+json": {
              "type": "string"
            }
          },
          "metadata": {},
          "execution_count": 4
        }
      ]
    },
    {
      "cell_type": "code",
      "source": [
        "%cd /content/drive/MyDrive/Colab Notebooks/alpaco_sec_team_project/V4 # 경로설정\n",
        "!unzip -qq '/content/drive/MyDrive/Colab Notebooks/alpaco_sec_team_project/V4/dataset100.zip' # 경로 내의 zip파일을 압축해제해줌"
      ],
      "metadata": {
        "colab": {
          "base_uri": "https://localhost:8080/"
        },
        "id": "wfC8Uxh2t4Dr",
        "outputId": "d7575527-5b9c-4797-e21e-c9d9bb2627a5"
      },
      "execution_count": null,
      "outputs": [
        {
          "output_type": "stream",
          "name": "stdout",
          "text": [
            "/content/drive/MyDrive/Colab Notebooks/alpaco_sec_team_project/V4\n"
          ]
        }
      ]
    },
    {
      "cell_type": "code",
      "source": [
        "import glob\n",
        "dir='/content/drive/MyDrive/Colab Notebooks/alpaco_sec_team_project/V4/UECFOOD100/*' # UECFOOD100폴더 안의 데이터 경로를 dir로 설정\n",
        "length = len(glob.glob(dir)) # glob함수를 사용하여 dir을 리스트형식으로 변환 뒤 개수를 새줌\n",
        "length                       # 106개, 압축해제가 잘 되었음을 확인."
      ],
      "metadata": {
        "colab": {
          "base_uri": "https://localhost:8080/"
        },
        "id": "mjmb8f100v59",
        "outputId": "8b8cb4a1-732f-4b84-971f-d7c0daa7474b"
      },
      "execution_count": null,
      "outputs": [
        {
          "output_type": "execute_result",
          "data": {
            "text/plain": [
              "106"
            ]
          },
          "metadata": {},
          "execution_count": 3
        }
      ]
    },
    {
      "cell_type": "code",
      "source": [],
      "metadata": {
        "id": "tMhcSPyc2Vba"
      },
      "execution_count": null,
      "outputs": []
    }
  ]
}